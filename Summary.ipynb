{
 "cells": [
  {
   "cell_type": "markdown",
   "metadata": {},
   "source": [
    "## Classification of Music Lyrics for Artists and Songs (I've) played since 2016"
   ]
  },
  {
   "cell_type": "markdown",
   "metadata": {},
   "source": [
    "## Introduction"
   ]
  },
  {
   "cell_type": "markdown",
   "metadata": {},
   "source": [
    "Music streaming has uppended the music industry in irreversable ways. Gone are the days of CD distribution and mp3 players with capacity constraints. Today, consumers can access nearly any song ever create - from top artists to recently-minted SoundCloud singer.\n",
    "\n",
    "Instant access to music with significantly less financial barriers supports the experimentation and exploration of various music forms that conusmers would have passed on in previous phases. Given this, it is helpful to understand how listeners consume music: which genres, artists, and - because there is less emphasis on records - which songs and content. On content, the messages that are or aren't conveyed in music can speak to an artists strategic and creative approach. The following will explore the content in today's music through a process of Natural Language Processing analysis to answer the following:"
   ]
  },
  {
   "cell_type": "markdown",
   "metadata": {},
   "source": [
    "![](Images/Slide2.png)"
   ]
  },
  {
   "cell_type": "markdown",
   "metadata": {},
   "source": [
    "## Project motivation"
   ]
  },
  {
   "cell_type": "markdown",
   "metadata": {},
   "source": [
    "For this project, I'm looking to build on the previous NLP and Machine Learning skills that I built on my Module 3 work while incorporating Deep Learning approaches and packages. I'd also like to focus on acquiring data through APIs and webscrapping. Most importantly is my interest in musicians and the art they produce, and possibly gaining better understanding in how they influence, with their words, me at the least."
   ]
  },
  {
   "cell_type": "markdown",
   "metadata": {},
   "source": [
    "## Project outline"
   ]
  },
  {
   "cell_type": "markdown",
   "metadata": {},
   "source": [
    "![](Images/Slide6.png)"
   ]
  },
  {
   "cell_type": "markdown",
   "metadata": {},
   "source": [
    "1. Obtain my music listening history data from Apple Music through a database request. More seamless process than using the API.\n",
    "2. Obtain music lyrics for each song and artist pair in my listening history data set by using the Genius API.\n",
    "3. Tokenize and vectorize my text data for initial insights on most frequent ngram phrases. Additionally, I'd like to analyze trends in my listening activity over time.\n",
    "4. Build and train a baseline, NB, and neural network models to classify Genres and Artist.\n",
    "5. Compare the performance of all approaches."
   ]
  },
  {
   "cell_type": "markdown",
   "metadata": {},
   "source": [
    "### Exploratory data analysis"
   ]
  },
  {
   "cell_type": "markdown",
   "metadata": {},
   "source": [
    "I reviewed data on my perosnal listening history to develop an initial persona."
   ]
  },
  {
   "cell_type": "markdown",
   "metadata": {},
   "source": [
    "![](Images/Slide4.png)"
   ]
  },
  {
   "cell_type": "markdown",
   "metadata": {},
   "source": [
    "Below are additional snapshots of my listening activity during the ~3 year period."
   ]
  },
  {
   "cell_type": "markdown",
   "metadata": {},
   "source": [
    "__Artist plays__"
   ]
  },
  {
   "cell_type": "markdown",
   "metadata": {},
   "source": [
    "![](Images/output_45_0.png)"
   ]
  },
  {
   "cell_type": "markdown",
   "metadata": {},
   "source": [
    "__Song plays__"
   ]
  },
  {
   "cell_type": "markdown",
   "metadata": {},
   "source": [
    "![](Images/output_48_0.png)"
   ]
  },
  {
   "cell_type": "markdown",
   "metadata": {},
   "source": [
    "__Genre plays__"
   ]
  },
  {
   "cell_type": "markdown",
   "metadata": {},
   "source": [
    "![](Images/output_55_0.png)"
   ]
  },
  {
   "cell_type": "markdown",
   "metadata": {},
   "source": [
    "Nothing surprising and shameful here."
   ]
  },
  {
   "cell_type": "markdown",
   "metadata": {},
   "source": [
    "### Time-series analysis"
   ]
  },
  {
   "cell_type": "markdown",
   "metadata": {},
   "source": [
    "Additionally, to build on the initial exploratory analysis, I'll next dive into trends in listening habits over time."
   ]
  },
  {
   "cell_type": "markdown",
   "metadata": {},
   "source": [
    "__Overall listening activity__"
   ]
  },
  {
   "cell_type": "markdown",
   "metadata": {},
   "source": [
    "![](Images/output_73_0.png)"
   ]
  },
  {
   "cell_type": "markdown",
   "metadata": {},
   "source": [
    "__Monthly listening activity__"
   ]
  },
  {
   "cell_type": "markdown",
   "metadata": {},
   "source": [
    "![](Images/output_76_0.png)"
   ]
  },
  {
   "cell_type": "markdown",
   "metadata": {},
   "source": [
    "__Annual listening activity__"
   ]
  },
  {
   "cell_type": "markdown",
   "metadata": {},
   "source": [
    "![](Images/output_79_0.png)"
   ]
  },
  {
   "cell_type": "markdown",
   "metadata": {},
   "source": [
    "__Trends by top artists__"
   ]
  },
  {
   "cell_type": "markdown",
   "metadata": {},
   "source": [
    "![](Images/output_84_0.png)"
   ]
  },
  {
   "cell_type": "markdown",
   "metadata": {},
   "source": [
    "___Subplots___"
   ]
  },
  {
   "cell_type": "markdown",
   "metadata": {},
   "source": [
    "![](Images/output_85_0.png)"
   ]
  },
  {
   "cell_type": "markdown",
   "metadata": {},
   "source": [
    "__Trends by top songs__"
   ]
  },
  {
   "cell_type": "markdown",
   "metadata": {},
   "source": [
    "![](Images/output_89_0.png)"
   ]
  },
  {
   "cell_type": "markdown",
   "metadata": {},
   "source": [
    "___Subplots___"
   ]
  },
  {
   "cell_type": "markdown",
   "metadata": {},
   "source": [
    "![](Images/output_90_0.png)"
   ]
  },
  {
   "cell_type": "markdown",
   "metadata": {},
   "source": [
    "__Trends by top genres__"
   ]
  },
  {
   "cell_type": "markdown",
   "metadata": {},
   "source": [
    "![](Images/output_94_0.png)"
   ]
  },
  {
   "cell_type": "markdown",
   "metadata": {},
   "source": [
    "___Subplots___"
   ]
  },
  {
   "cell_type": "markdown",
   "metadata": {},
   "source": [
    "![](Images/output_95_0.png)"
   ]
  },
  {
   "cell_type": "markdown",
   "metadata": {},
   "source": [
    "From these visualizations, I notice that I've played Hip Hop most consistently through the time period, with a considerable uptick in Summer 2018. I have also played more electronic music since Spring 2018."
   ]
  },
  {
   "cell_type": "markdown",
   "metadata": {},
   "source": [
    "### NLP classification "
   ]
  },
  {
   "cell_type": "markdown",
   "metadata": {},
   "source": [
    "Now that the necessary data is sourced and organized, the next phase will focus on preprocessing the text data with the use of Natural Language Processing tools. For a series of analysis, the text will be tokenize, vectorized, and transformed in additional manners to create embeddings and to classify target features in the model."
   ]
  },
  {
   "cell_type": "markdown",
   "metadata": {},
   "source": [
    "I'll employ various approaches to build classification models for Genre feature of the data. I'll start with a Log Regression as baseline and after compare performance with Naive Bayes, Random Forest, GRU, LSTM, and lastly Bidirectional LSTM models. This classification task will entail double digit classes and likely some class imbalance challenges to work through."
   ]
  },
  {
   "cell_type": "markdown",
   "metadata": {},
   "source": [
    "_Initial baseline_"
   ]
  },
  {
   "cell_type": "markdown",
   "metadata": {},
   "source": [
    "The baseline— Multinomial Naive Bayes— model has a 44% accuracy. It has particularly poor performance with the minority classes due to high class imbalance with Hip Hop/Rap genre."
   ]
  },
  {
   "cell_type": "markdown",
   "metadata": {},
   "source": [
    "![](Images/output_214_1.png)"
   ]
  },
  {
   "cell_type": "markdown",
   "metadata": {},
   "source": [
    "A seperate baseline Random Forest model performs slightly better yet is also affected by the class imbalance."
   ]
  },
  {
   "cell_type": "markdown",
   "metadata": {},
   "source": [
    "Completing these models with SMOTE improves performance significantly."
   ]
  },
  {
   "cell_type": "markdown",
   "metadata": {},
   "source": [
    "_SMOTE Naive Bayes_"
   ]
  },
  {
   "cell_type": "markdown",
   "metadata": {},
   "source": [
    "![](Images/output_248_1.png)"
   ]
  },
  {
   "cell_type": "markdown",
   "metadata": {},
   "source": [
    "_SMOTE Random Forest_"
   ]
  },
  {
   "cell_type": "markdown",
   "metadata": {},
   "source": [
    "![](Images/output_250_1.png)"
   ]
  },
  {
   "cell_type": "markdown",
   "metadata": {},
   "source": [
    "It is possible that the synthethic samples may overfit the model. I'd like to also complete these models with undersampled sets, for comparison. "
   ]
  },
  {
   "cell_type": "markdown",
   "metadata": {},
   "source": [
    "_Undersampled Naive Bayes with GridSearch_"
   ]
  },
  {
   "cell_type": "markdown",
   "metadata": {},
   "source": [
    "![](Images/output_266_5.png)"
   ]
  },
  {
   "cell_type": "markdown",
   "metadata": {},
   "source": [
    "_Undersampled Random Forest with GridSearch_"
   ]
  },
  {
   "cell_type": "markdown",
   "metadata": {},
   "source": [
    "![](Images/output_270_5.png)"
   ]
  },
  {
   "cell_type": "markdown",
   "metadata": {},
   "source": [
    "Even with Gridsearch, the undersampled models perform poorly. In this case, the sample sizes are likely too small to provide both sufficient data to train and test on."
   ]
  },
  {
   "cell_type": "markdown",
   "metadata": {},
   "source": [
    "Given these limitation of combination of class imbalance and relatively small dataset, I'll explore how deep learning approaches may improve classification performance."
   ]
  },
  {
   "cell_type": "markdown",
   "metadata": {},
   "source": [
    "The deep learning models I used are: LSTM, GRE, and Bidirectional LSTM. Each had greater accuracy than the baseline models, with Bidirectional LSTM performing the best at 89% accuracy!"
   ]
  },
  {
   "cell_type": "markdown",
   "metadata": {},
   "source": [
    "![](Images/Slide7.png)"
   ]
  },
  {
   "cell_type": "markdown",
   "metadata": {},
   "source": [
    "This data and analysis could be helpful for various reasons. I'm interested in understanding my own behavior better but other organizations could find this information insightful for various reasons including the following:"
   ]
  },
  {
   "cell_type": "markdown",
   "metadata": {},
   "source": [
    "![](Images/Slide5.png)"
   ]
  },
  {
   "cell_type": "markdown",
   "metadata": {},
   "source": [
    "## Conclusion"
   ]
  },
  {
   "cell_type": "markdown",
   "metadata": {},
   "source": [
    "I used various approaches and packages to build and test classification models for predicting song genres. Overall, the bidirectional LSTM model performed best, not a surprise given the ability to account not only for word frequency but also sequencig, and thus extracting greater meaning from the text data during the training stage."
   ]
  },
  {
   "cell_type": "markdown",
   "metadata": {},
   "source": [
    "In future iterations, I plan to refine my deep learning models further and to assess classification performance on other attritibutes such as artist name."
   ]
  }
 ],
 "metadata": {
  "kernelspec": {
   "display_name": "Python 3",
   "language": "python",
   "name": "python3"
  },
  "language_info": {
   "codemirror_mode": {
    "name": "ipython",
    "version": 3
   },
   "file_extension": ".py",
   "mimetype": "text/x-python",
   "name": "python",
   "nbconvert_exporter": "python",
   "pygments_lexer": "ipython3",
   "version": "3.7.3"
  },
  "toc": {
   "base_numbering": 1,
   "nav_menu": {},
   "number_sections": true,
   "sideBar": true,
   "skip_h1_title": false,
   "title_cell": "Table of Contents",
   "title_sidebar": "Contents",
   "toc_cell": false,
   "toc_position": {},
   "toc_section_display": true,
   "toc_window_display": false
  }
 },
 "nbformat": 4,
 "nbformat_minor": 2
}
